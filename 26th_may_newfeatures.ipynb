{
 "cells": [
  {
   "cell_type": "code",
   "execution_count": 131,
   "metadata": {
    "collapsed": true
   },
   "outputs": [],
   "source": [
    "import matplotlib.pyplot as plt\n",
    "import numpy as np\n",
    "import pandas as pd\n",
    "from sklearn.tree import DecisionTreeClassifier\n",
    "from sklearn.preprocessing import MinMaxScaler\n",
    "from sklearn.neighbors import KNeighborsClassifier as KNN\n",
    "from time import time\n",
    "from sklearn.linear_model import LogisticRegression\n",
    "import pickle\n",
    "import math\n",
    "from sklearn.ensemble import RandomForestClassifier"
   ]
  },
  {
   "cell_type": "code",
   "execution_count": 132,
   "metadata": {},
   "outputs": [
    {
     "data": {
      "text/html": [
       "<div>\n",
       "<style>\n",
       "    .dataframe thead tr:only-child th {\n",
       "        text-align: right;\n",
       "    }\n",
       "\n",
       "    .dataframe thead th {\n",
       "        text-align: left;\n",
       "    }\n",
       "\n",
       "    .dataframe tbody tr th {\n",
       "        vertical-align: top;\n",
       "    }\n",
       "</style>\n",
       "<table border=\"1\" class=\"dataframe\">\n",
       "  <thead>\n",
       "    <tr style=\"text-align: right;\">\n",
       "      <th></th>\n",
       "      <th>x</th>\n",
       "      <th>y</th>\n",
       "    </tr>\n",
       "  </thead>\n",
       "  <tbody>\n",
       "    <tr>\n",
       "      <th>count</th>\n",
       "      <td>62930.000000</td>\n",
       "      <td>62930.000000</td>\n",
       "    </tr>\n",
       "    <tr>\n",
       "      <th>mean</th>\n",
       "      <td>0.437239</td>\n",
       "      <td>-2.463257</td>\n",
       "    </tr>\n",
       "    <tr>\n",
       "      <th>std</th>\n",
       "      <td>0.315404</td>\n",
       "      <td>0.338497</td>\n",
       "    </tr>\n",
       "    <tr>\n",
       "      <th>min</th>\n",
       "      <td>-0.639811</td>\n",
       "      <td>-3.179523</td>\n",
       "    </tr>\n",
       "    <tr>\n",
       "      <th>25%</th>\n",
       "      <td>0.336156</td>\n",
       "      <td>-2.547189</td>\n",
       "    </tr>\n",
       "    <tr>\n",
       "      <th>50%</th>\n",
       "      <td>0.435035</td>\n",
       "      <td>-2.478523</td>\n",
       "    </tr>\n",
       "    <tr>\n",
       "      <th>75%</th>\n",
       "      <td>0.541238</td>\n",
       "      <td>-2.414130</td>\n",
       "    </tr>\n",
       "    <tr>\n",
       "      <th>max</th>\n",
       "      <td>10.000000</td>\n",
       "      <td>8.546731</td>\n",
       "    </tr>\n",
       "  </tbody>\n",
       "</table>\n",
       "</div>"
      ],
      "text/plain": [
       "                  x             y\n",
       "count  62930.000000  62930.000000\n",
       "mean       0.437239     -2.463257\n",
       "std        0.315404      0.338497\n",
       "min       -0.639811     -3.179523\n",
       "25%        0.336156     -2.547189\n",
       "50%        0.435035     -2.478523\n",
       "75%        0.541238     -2.414130\n",
       "max       10.000000      8.546731"
      ]
     },
     "execution_count": 132,
     "metadata": {},
     "output_type": "execute_result"
    }
   ],
   "source": [
    "df = pd.read_csv(\"Test1655_240518.CSV\") \n",
    "df.describe()"
   ]
  },
  {
   "cell_type": "code",
   "execution_count": 133,
   "metadata": {},
   "outputs": [],
   "source": [
    "x_values=df.iloc[:,0].values\n",
    "y_values=df.iloc[:,1].values\n",
    "\n",
    "diff_x_values=np.diff(x_values)\n",
    "diff_y_values=np.diff(y_values)"
   ]
  },
  {
   "cell_type": "code",
   "execution_count": 134,
   "metadata": {},
   "outputs": [
    {
     "name": "stdout",
     "output_type": "stream",
     "text": [
      "120\n",
      "150\n",
      "180\n",
      "(180, 4)\n",
      "(180,)\n",
      "MODEL SAVED\n"
     ]
    }
   ],
   "source": [
    "j=0\n",
    "i=0\n",
    "labels=[];\n",
    "feature1=[];\n",
    "feature2=[];\n",
    "feature3=[];\n",
    "feature4=[];\n",
    "count=0\n",
    "end=0\n",
    "start=5930;\n",
    "while(start>=5930 and end<17930):\n",
    "    #FAN SPEED 1 and FAN SPEED 2\n",
    "    count=count+1\n",
    "    labels.append(1)\n",
    "    end=start+100; \n",
    "    feature1.append(np.mean(diff_x_values[start:end]))\n",
    "    feature2.append(np.std(diff_x_values[start:end])) \n",
    "    feature3.append(np.mean(diff_y_values[start:end]))\n",
    "    feature4.append(np.std(diff_y_values[start:end])) \n",
    "    start=end\n",
    " \n",
    "\n",
    "print count\n",
    "\n",
    "\n",
    "start=20930\n",
    "end=0\n",
    "\n",
    "\n",
    "\n",
    "while(start>=20930 and end<23930):\n",
    "    count=count+1\n",
    "    #POWDER\n",
    "    end=start+100\n",
    "    feature1.append(np.mean(diff_x_values[start:end]))\n",
    "    feature2.append(np.std(diff_x_values[start:end]))\n",
    "    feature3.append(np.mean(diff_y_values[start:end]))\n",
    "    feature4.append(np.std(diff_y_values[start:end]))\n",
    "    start=end\n",
    " \n",
    "    labels.append(2)\n",
    "\n",
    "\n",
    "    \n",
    "\n",
    "print count\n",
    "m=26930\n",
    "n=0\n",
    "\n",
    "\n",
    "while(m>=26930 and n<29930):\n",
    "    ##Spray\n",
    "    count=count+1\n",
    "    n=m+100\n",
    "    feature1.append(np.mean(diff_x_values[m:n]))\n",
    "    feature2.append(np.std(diff_x_values[m:n]))\n",
    "    feature3.append(np.mean(diff_y_values[m:n]))\n",
    "    feature4.append(np.std(diff_y_values[m:n])) \n",
    "    labels.append(3)\n",
    "    m=n\n",
    "\n",
    "print count\n",
    "\n",
    "feature1=(np.asarray(feature1)).reshape(180,1)\n",
    "feature2=(np.asarray(feature2)).reshape(180,1)\n",
    "feature3=(np.asarray(feature3)).reshape(feature1.shape[0],1)\n",
    "feature4=(np.asarray(feature4)).reshape(feature1.shape[0],1)\n",
    "\n",
    "mag_diff1=(np.sqrt(feature1**2+feature3**2)).reshape(feature1.shape[0],1);\n",
    "dir_diff1=(np.arctan(feature3/feature1)).reshape(feature1.shape[0],1);\n",
    "\n",
    "\n",
    "mag_diff2=(np.sqrt(feature2**2+feature4**2)).reshape(feature1.shape[0],1);\n",
    "dir_diff2=(np.arctan(feature4/feature2)).reshape(feature1.shape[0],1);\n",
    "\n",
    "# Training features\n",
    "\n",
    "training=np.concatenate((mag_diff1,dir_diff1,mag_diff2,dir_diff2), axis=1)\n",
    "testing=np.asarray(labels)\n",
    "print training.shape\n",
    "print testing.shape\n",
    "\n",
    " \n",
    "#TRAINING THE MODEL\n",
    "clf = RandomForestClassifier(random_state=1)\n",
    "clf.fit(training,testing)\n",
    "\n",
    "\n",
    "with open('abs(Random_Forest_MODE_flowchart2.pickle)','wb') as f:\n",
    "    pickle.dump(clf,f)\n",
    "\n",
    "\n",
    "print \"MODEL SAVED\""
   ]
  },
  {
   "cell_type": "markdown",
   "metadata": {},
   "source": [
    "## in dir feature 51,135,149 becomes infintiy"
   ]
  },
  {
   "cell_type": "code",
   "execution_count": 80,
   "metadata": {},
   "outputs": [
    {
     "name": "stdout",
     "output_type": "stream",
     "text": [
      "2\n",
      "17\n",
      "96\n",
      "[-0.00018006] [  3.96700000e-05]\n"
     ]
    },
    {
     "name": "stderr",
     "output_type": "stream",
     "text": [
      "/usr/local/lib/python2.7/site-packages/ipykernel_launcher.py:2: RuntimeWarning: divide by zero encountered in divide\n",
      "  \n"
     ]
    }
   ],
   "source": [
    "\n",
    "x=np.isinf(feature3/feature1);\n",
    "for ix in range (1,len(x)):\n",
    "   if x[ix]==True:\n",
    "     print ix\n",
    "print feature3[149],feature1[149]\n"
   ]
  },
  {
   "cell_type": "markdown",
   "metadata": {},
   "source": [
    "## TESTING MODELS"
   ]
  },
  {
   "cell_type": "code",
   "execution_count": 146,
   "metadata": {},
   "outputs": [
    {
     "name": "stdout",
     "output_type": "stream",
     "text": [
      "(240, 4)\n",
      "(240,)\n"
     ]
    }
   ],
   "source": [
    "df = pd.read_csv(\"./Experiment2_data_wired.csv\")\n",
    "\n",
    "j=0\n",
    "i=0\n",
    "labels=[];\n",
    "feature1=[];\n",
    "feature2=[];\n",
    "feature3=[];\n",
    "feature4=[];\n",
    "count=0\n",
    "end=0\n",
    "start=6000;\n",
    "\n",
    "x_values=df.iloc[2857:,0]\n",
    "\n",
    "y_values=df.iloc[2857:,1]\n",
    "\n",
    "diff_x_values=abs(np.diff(x_values))\n",
    "diff_y_values=abs(np.diff(y_values))\n",
    "\n",
    "while(start>=6000 and end<18000):\n",
    "    #FAN SPEED 1 and FAN SPEED 2\n",
    "\n",
    "    labels.append(1)\n",
    "    end=start+100; \n",
    "    feature1.append(np.mean(diff_x_values[start:end]))\n",
    "    feature2.append(np.std(diff_x_values[start:end])) \n",
    "    feature3.append(np.mean(diff_y_values[start:end]))\n",
    "    feature4.append(np.std(diff_y_values[start:end])) \n",
    "    start=end\n",
    " \n",
    "\n",
    "\n",
    "\n",
    "\n",
    "\n",
    "start=27000\n",
    "end=0\n",
    "\n",
    "\n",
    "\n",
    "while(start>=27000 and end<33000):\n",
    "\n",
    "    #POWDER\n",
    "    end=start+100\n",
    "    feature1.append(np.mean(diff_x_values[start:end]))\n",
    "    feature2.append(np.std(diff_x_values[start:end]))\n",
    "    feature3.append(np.mean(diff_y_values[start:end]))\n",
    "    feature4.append(np.std(diff_y_values[start:end]))\n",
    "    start=end\n",
    " \n",
    "    labels.append(2)\n",
    "\n",
    "\n",
    "\n",
    "\n",
    "m=36000\n",
    "n=0\n",
    "\n",
    "\n",
    "while(m>=36000 and n<42000):\n",
    "    ##Spray\n",
    "\n",
    "    n=m+100\n",
    "    feature1.append(np.mean(diff_x_values[m:n]))\n",
    "    feature2.append(np.std(diff_x_values[m:n]))\n",
    "    feature3.append(np.mean(diff_y_values[m:n]))\n",
    "    feature4.append(np.std(diff_y_values[m:n])) \n",
    "    labels.append(3)\n",
    "    m=n\n",
    "\n",
    "\n",
    "feature1=np.asarray(feature1).reshape(240,1)\n",
    "feature2=np.asarray(feature2).reshape(feature1.shape[0],1)\n",
    "feature3=np.asarray(feature3).reshape(feature1.shape[0],1)\n",
    "feature4=np.asarray(feature4).reshape(feature1.shape[0],1)\n",
    "\n",
    "\n",
    "mag_diff1=(np.sqrt(feature1**2+feature3**2)).reshape(feature1.shape[0],1);\n",
    "dir_diff1=(np.arctan(feature3/feature1)).reshape(feature1.shape[0],1);\n",
    "\n",
    "mag_diff2=(np.sqrt(feature2**2+feature4**2)).reshape(feature1.shape[0],1);\n",
    "dir_diff2=(np.arctan(feature4/feature2)).reshape(feature1.shape[0],1);\n",
    "\n",
    "\n",
    "training=np.concatenate((mag_diff1,dir_diff1,mag_diff2,dir_diff2), axis=1)\n",
    "testing=np.asarray(labels)\n",
    "print training.shape\n",
    "print testing.shape\n",
    "\n",
    " "
   ]
  },
  {
   "cell_type": "markdown",
   "metadata": {},
   "source": [
    "### Testing 1 accuracy"
   ]
  },
  {
   "cell_type": "code",
   "execution_count": 147,
   "metadata": {},
   "outputs": [
    {
     "data": {
      "text/plain": [
       "82.083333333333329"
      ]
     },
     "execution_count": 147,
     "metadata": {},
     "output_type": "execute_result"
    }
   ],
   "source": [
    "read=open('abs(Random_Forest_MODE_flowchart2.pickle)','rb')\n",
    "clf=pickle.load(read)\n",
    "\n",
    "clf.score(training,testing)*100\n",
    "\n"
   ]
  },
  {
   "cell_type": "code",
   "execution_count": 144,
   "metadata": {},
   "outputs": [
    {
     "name": "stdout",
     "output_type": "stream",
     "text": [
      "210\n",
      "(210, 4)\n",
      "(210,)\n"
     ]
    }
   ],
   "source": [
    "df = pd.read_csv(\"Test1638_230518.csv\")\n",
    "\n",
    "\n",
    "j=0\n",
    "i=0\n",
    "labels=[];\n",
    "feature1=[];\n",
    "feature2=[];\n",
    "feature3=[];\n",
    "feature4=[];\n",
    "count=0\n",
    "end=0\n",
    "start=3000;\n",
    "\n",
    "x_values=df.iloc[2919:,0]\n",
    "\n",
    "y_values=df.iloc[2919:,1]\n",
    "\n",
    "\n",
    "diff_x_values=abs(np.diff(x_values))\n",
    "diff_y_values=abs(np.diff(y_values))\n",
    "\n",
    "\n",
    "\n",
    "while(start>=3000 and end<12000):\n",
    "    #FAN SPEED 1 and FAN SPEED 2 and 3\n",
    "    count=count+1\n",
    "    labels.append(1)\n",
    "    end=start+100; \n",
    "    feature1.append(np.mean(diff_x_values[start:end]))\n",
    "    feature2.append(np.std(diff_x_values[start:end])) \n",
    "    feature3.append(np.mean(diff_y_values[start:end]))\n",
    "    feature4.append(np.std(diff_y_values[start:end])) \n",
    "    start=end\n",
    "    \n",
    "\n",
    "end=0\n",
    "start=15000; \n",
    "\n",
    "while(start>=15000 and end<21000):\n",
    "    #FAN SPEED 1 and FAN SPEED 2 and 3 \n",
    "    count=count+1\n",
    "    labels.append(1)\n",
    "    end=start+100; \n",
    "    feature1.append(np.mean(diff_x_values[start:end]))\n",
    "    feature2.append(np.std(diff_x_values[start:end])) \n",
    "    feature3.append(np.mean(diff_y_values[start:end]))\n",
    "    feature4.append(np.std(diff_y_values[start:end])) \n",
    "    start=end\n",
    "\n",
    "\n",
    "\n",
    "\n",
    "start=27000\n",
    "end=0\n",
    "\n",
    "\n",
    "\n",
    "while(start>=27000 and end<30000):\n",
    "    count=count+1\n",
    "    #POWDER\n",
    "    end=start+100\n",
    "    feature1.append(np.mean(diff_x_values[start:end]))\n",
    "    feature2.append(np.std(diff_x_values[start:end]))\n",
    "    feature3.append(np.mean(diff_y_values[start:end]))\n",
    "    feature4.append(np.std(diff_y_values[start:end]))\n",
    "    start=end\n",
    " \n",
    "    labels.append(2)\n",
    "\n",
    "\n",
    "\n",
    "\n",
    "m=33000\n",
    "n=0\n",
    "\n",
    "\n",
    "while(m>=33000 and n<36000):\n",
    "    ##Spray\n",
    "    count=count+1\n",
    "    n=m+100\n",
    "    feature1.append(np.mean(diff_x_values[m:n]))\n",
    "    feature2.append(np.std(diff_x_values[m:n]))\n",
    "    feature3.append(np.mean(diff_y_values[m:n]))\n",
    "    feature4.append(np.std(diff_y_values[m:n])) \n",
    "    labels.append(3)\n",
    "    m=n\n",
    "\n",
    "print count\n",
    "feature1=np.asarray(feature1).reshape(210,1)\n",
    "feature2=np.asarray(feature2).reshape(feature1.shape[0],1)\n",
    "feature3=np.asarray(feature3).reshape(feature1.shape[0],1)\n",
    "feature4=np.asarray(feature4).reshape(feature1.shape[0],1)\n",
    "\n",
    "\n",
    "mag_diff1=(np.sqrt(feature1**2+feature3**2)).reshape(feature1.shape[0],1);\n",
    "dir_diff1=(np.arctan(feature3/feature1)).reshape(feature1.shape[0],1);\n",
    "\n",
    "mag_diff2=(np.sqrt(feature2**2+feature4**2)).reshape(feature1.shape[0],1);\n",
    "dir_diff2=(np.arctan(feature4/feature2)).reshape(feature1.shape[0],1);\n",
    "\n",
    "\n",
    "training=np.concatenate((mag_diff1,dir_diff1,mag_diff2,dir_diff2), axis=1)\n",
    "testing=np.asarray(labels)\n",
    "print training.shape\n",
    "print testing.shape\n",
    "\n",
    " "
   ]
  },
  {
   "cell_type": "markdown",
   "metadata": {},
   "source": [
    "## Testing 2 accuarcy"
   ]
  },
  {
   "cell_type": "code",
   "execution_count": 145,
   "metadata": {},
   "outputs": [
    {
     "data": {
      "text/plain": [
       "90.476190476190482"
      ]
     },
     "execution_count": 145,
     "metadata": {},
     "output_type": "execute_result"
    }
   ],
   "source": [
    "read=open('abs(Random_Forest_MODE_flowchart2.pickle)','rb')\n",
    "clf=pickle.load(read)\n",
    "\n",
    "clf.score(training,testing)*100\n"
   ]
  },
  {
   "cell_type": "code",
   "execution_count": null,
   "metadata": {},
   "outputs": [],
   "source": []
  },
  {
   "cell_type": "code",
   "execution_count": null,
   "metadata": {},
   "outputs": [],
   "source": []
  },
  {
   "cell_type": "code",
   "execution_count": null,
   "metadata": {
    "collapsed": true
   },
   "outputs": [],
   "source": []
  }
 ],
 "metadata": {
  "kernelspec": {
   "display_name": "Python 2",
   "language": "python",
   "name": "python2"
  },
  "language_info": {
   "codemirror_mode": {
    "name": "ipython",
    "version": 2
   },
   "file_extension": ".py",
   "mimetype": "text/x-python",
   "name": "python",
   "nbconvert_exporter": "python",
   "pygments_lexer": "ipython2",
   "version": "2.7.13"
  }
 },
 "nbformat": 4,
 "nbformat_minor": 2
}
